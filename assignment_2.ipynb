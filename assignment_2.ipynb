{
 "cells": [
  {
   "cell_type": "markdown",
   "metadata": {},
   "source": [
    "## Data Analysis for Physics and Astronomy\n",
    "## Sommersemster 2024 \n",
    "# Assignment 2\n",
    "\n",
    "Due: **10:00 14. May 2024**\n",
    "\n",
    "Discussion: **12:00 14. May 2024**\n",
    "\n",
    "**Online submission** at via github classroom  "
   ]
  },
  {
   "cell_type": "markdown",
   "metadata": {},
   "source": [
    "# Import and understand scientific data [30 Points]\n",
    "\n",
    "Describe each of the following file types, then load and visualize the corresponding file's contents."
   ]
  },
  {
   "cell_type": "code",
   "execution_count": 1,
   "metadata": {},
   "outputs": [],
   "source": [
    "%matplotlib inline"
   ]
  },
  {
   "cell_type": "markdown",
   "metadata": {},
   "source": [
    "**a.** FITS: Open and visualise the data in `Data/CII_O1.fits`. **10 points**"
   ]
  },
  {
   "cell_type": "markdown",
   "metadata": {},
   "source": [
    "The important package is from the astropy libary: [DOCUMENTATION](https://docs.astropy.org/en/stable/io/fits/)\n",
    "\n",
    "Every Header Data Unit (HDU) normally has two components: header and data. In astropy these two components are accessed through the two attributes of the HDU, `hdu.header` and `hdu.data`.\n",
    "\n",
    "What is important to know is that the data contained in the HDU has the shape of the givin axes, but it is not specifically those values. For this FITS file, we have Intensity values for axes of 'Frequency', 'RA', 'DEC', and 'Stokes'. The units of the intensity data is given by `BUNIT`: Kelvin. This is typical for radio observational data. The axes can be rebuilt using `CRVAL`, `CRPIX`  and `CDELT` for each axis, and the axes must be linearly-spaced. The units of these axes must be inferred in this case, but typically comments are left for anything that is abnormal. You can find a description of the heder labels [here](https://diffractionlimited.com/help/maximdl/FITS_File_Header_Definitions.htm).\n",
    "\n",
    "Since axes 2, 3, and 4 have length 1, we can simplify our data to two dimensions: frequency and intensity. One super confusing thing about extracting the data (at least I find it super confusing) is that the axes in the extracted numpy array are reversed compared to the header. This is due to the difference between how axezs are defined in numpy and in the HDU standard. So to access the first axis in the data you would have to use something like `hdul[0].data[0,0,0,:]`.\n",
    "\n",
    "Now you just need to plot the data and you are done.\n",
    "\n",
    "First print the header info."
   ]
  },
  {
   "cell_type": "code",
   "execution_count": 3,
   "metadata": {},
   "outputs": [],
   "source": [
    "from astropy.io import fits\n",
    "import pprint\n",
    "\n",
    "# add your code here"
   ]
  },
  {
   "cell_type": "markdown",
   "metadata": {},
   "source": [
    "Then access the spectrum data. The `.data` attribute of a table HDU contains the data of the table."
   ]
  },
  {
   "cell_type": "code",
   "execution_count": null,
   "metadata": {},
   "outputs": [],
   "source": [
    "# add your code here"
   ]
  },
  {
   "cell_type": "markdown",
   "metadata": {},
   "source": [
    "The x axis is frequency as written in the header. Calculate the frequency axis from the header value by using the formula $(i-(crpix1-1))*cdelt1+crval1$"
   ]
  },
  {
   "cell_type": "code",
   "execution_count": null,
   "metadata": {},
   "outputs": [],
   "source": [
    "# add your code here"
   ]
  },
  {
   "cell_type": "markdown",
   "metadata": {},
   "source": [
    "Plot the spectrum. Use the frequency values as x-value. Determine the correct Units for the y-axis."
   ]
  },
  {
   "cell_type": "code",
   "execution_count": null,
   "metadata": {},
   "outputs": [],
   "source": [
    "from matplotlib import pyplot as plt\n",
    "%matplotlib inline\n",
    "\n",
    "# here your code"
   ]
  },
  {
   "cell_type": "markdown",
   "metadata": {},
   "source": [
    "b. HDF4: Open and visualise the data in 2006001-2006005.s0454pfrt-bsst.hdf. 10 points"
   ]
  },
  {
   "cell_type": "markdown",
   "metadata": {},
   "source": [
    "You can use pyhdf to obtain extract the HDF4 data. This particular file contains a dictionary with three data objects: one for the two axes, and another containing the data. The axes thus do not need to be rebuilt as with the FITS standard."
   ]
  },
  {
   "cell_type": "code",
   "execution_count": null,
   "metadata": {},
   "outputs": [],
   "source": [
    "from pyhdf.SD import *\n",
    "import matplotlib.pyplot as plt\n",
    "import pprint\n",
    "\n",
    "file = SD('Data/2006001-2006005.s0454pfrt-bsst.hdf', SDC.READ)\n",
    "\n",
    "dataset = file.datasets()\n",
    "\n",
    "# here your code"
   ]
  },
  {
   "cell_type": "markdown",
   "metadata": {},
   "source": [
    "**c.** HDF5: Open and visualise the data in `3B-HHR.MS.MRG.3IMERG.20141001-S090000-E092959.0540.V05B.HDF5`. **10 points**"
   ]
  },
  {
   "cell_type": "markdown",
   "metadata": {},
   "source": [
    "It is worth noting that `pandas` also contains HDF5 functionality, but it is specifically for `pandas` dataframes. It cannot read standard HDF5 files. We instead have to use `h5py`."
   ]
  },
  {
   "cell_type": "code",
   "execution_count": null,
   "metadata": {},
   "outputs": [],
   "source": [
    "import h5py\n",
    "\n",
    "hdffilename = \"Data/3B-HHR.MS.MRG.3IMERG.20141001-S090000-E092959.0540.V05B.HDF5\"\n",
    "hdf_file = h5py.File(hdffilename,'r')"
   ]
  },
  {
   "cell_type": "markdown",
   "metadata": {},
   "source": [
    "To see the top-level meta data,"
   ]
  },
  {
   "cell_type": "code",
   "execution_count": null,
   "metadata": {},
   "outputs": [],
   "source": [
    "topmeta=hdf_file['/']\n",
    "print(topmeta.attrs.keys())"
   ]
  },
  {
   "cell_type": "code",
   "execution_count": null,
   "metadata": {},
   "outputs": [],
   "source": [
    "fileheader = topmeta.attrs.__getitem__('FileHeader')\n",
    "print(fileheader.decode('UTF-8'))"
   ]
  },
  {
   "cell_type": "code",
   "execution_count": null,
   "metadata": {},
   "outputs": [],
   "source": [
    "fileinfo = topmeta.attrs.__getitem__('FileInfo')\n",
    "print(fileinfo.decode('UTF-8'))"
   ]
  },
  {
   "cell_type": "markdown",
   "metadata": {},
   "source": [
    "How can we get an overview of the structure?"
   ]
  },
  {
   "cell_type": "code",
   "execution_count": null,
   "metadata": {},
   "outputs": [],
   "source": [
    "print(list(hdf_file.keys()))"
   ]
  },
  {
   "cell_type": "markdown",
   "metadata": {},
   "source": [
    "But this does not show the whole tree structures."
   ]
  },
  {
   "cell_type": "code",
   "execution_count": null,
   "metadata": {},
   "outputs": [],
   "source": [
    "def PrintDataset(name, obj):\n",
    "    if isinstance(obj,h5py.Dataset):\n",
    "        print(name)\n",
    "        print('\\t',obj)\n",
    "hdf_file.visititems(PrintDataset)"
   ]
  },
  {
   "cell_type": "markdown",
   "metadata": {},
   "source": [
    "There is a bunch of different data contained in this file. We will examine one of these - 'HQobservationTime' - in more detail."
   ]
  },
  {
   "cell_type": "code",
   "execution_count": null,
   "metadata": {},
   "outputs": [],
   "source": [
    "meta=hdf_file['Grid/lon']\n",
    "print(meta.attrs.keys())\n",
    "\n",
    "fileinfo = meta.attrs.__getitem__('Units')\n",
    "print(fileinfo.decode('UTF-8'))\n",
    "\n",
    "meta=hdf_file['Grid/lat']\n",
    "print(meta.attrs.keys())\n",
    "\n",
    "fileinfo = meta.attrs.__getitem__('Units')\n",
    "print(fileinfo.decode('UTF-8'))\n",
    "\n",
    "meta=hdf_file['Grid/HQobservationTime']\n",
    "print(meta.attrs.keys())\n",
    "\n",
    "fileinfo = meta.attrs.__getitem__('DimensionNames')\n",
    "print(fileinfo.decode('UTF-8'))\n",
    "fileinfo = meta.attrs.__getitem__('units')\n",
    "print(fileinfo.decode('UTF-8'))\n",
    "fileinfo = meta.attrs.__getitem__('Units')\n",
    "print(fileinfo.decode('UTF-8'))"
   ]
  },
  {
   "cell_type": "code",
   "execution_count": null,
   "metadata": {},
   "outputs": [],
   "source": [
    "hdf_file.close()"
   ]
  },
  {
   "cell_type": "markdown",
   "metadata": {},
   "source": [
    "It would be useful if we can store the contents into pandas dataframe."
   ]
  },
  {
   "cell_type": "code",
   "execution_count": null,
   "metadata": {},
   "outputs": [],
   "source": [
    "import pandas as pd\n",
    "import numpy as np\n",
    "\n",
    "def get_df_from_hdf(hdffilename,datasets):\n",
    "    header = {'filename':hdffilename}\n",
    "\n",
    "    with h5py.File(hdffilename,'r') as f:\n",
    "        for colname, dataset in datasets.items():\n",
    "            ds = f[dataset]\n",
    "            header[colname] = [ds[()]]\n",
    "\n",
    "    df = pd.DataFrame(header)\n",
    "    return df\n",
    "\n",
    "datasets = {'lat':'Grid/lat', 'lon':'Grid/lon', 'HQobservationTime':'Grid/HQobservationTime'}\n",
    "df = get_df_from_hdf(hdffilename,datasets)\n",
    "print(df)"
   ]
  },
  {
   "cell_type": "markdown",
   "metadata": {},
   "source": [
    "Visualize the data 'HQobservationTime' as a function of the latitute 'lat' and longitude 'lon'."
   ]
  },
  {
   "cell_type": "code",
   "execution_count": null,
   "metadata": {},
   "outputs": [],
   "source": [
    "# your code goes here"
   ]
  },
  {
   "cell_type": "markdown",
   "metadata": {},
   "source": [
    "# 2. Averaging spectral radio data (DATA EXERCISE) [30 Points]"
   ]
  },
  {
   "cell_type": "markdown",
   "metadata": {},
   "source": [
    "In this exercise you will work on a data set of artificial radio observation `radio-map.fits`. It is a map of 5x5\n",
    "spectra with 201 measured frequency/velocity channels (channel width is unity). If you number all spectra\n",
    "from 1 to 25 we use the following scheme to assign spectra to positions on the map (spectrum 1 is the top\n",
    "left spectrum):"
   ]
  },
  {
   "cell_type": "code",
   "execution_count": 6,
   "metadata": {},
   "outputs": [],
   "source": [
    "from astropy.io import fits\n",
    "import matplotlib.pyplot as plt\n",
    "import numpy as np\n",
    "import pprint"
   ]
  },
  {
   "cell_type": "code",
   "execution_count": null,
   "metadata": {},
   "outputs": [],
   "source": [
    "m = fits.open(\"Data/radio-map.fits\")\n",
    "pprint.pprint(m[0].header)\n",
    "spectra = m[0].data"
   ]
  },
  {
   "cell_type": "markdown",
   "metadata": {},
   "source": [
    "**a.** Compute the total “integrated-intensity” map of the observations, i.e. integrate the spectra over the full spectral range for all positions and plot the 5x5 map in a suitable way. **5 Points**"
   ]
  },
  {
   "cell_type": "code",
   "execution_count": null,
   "metadata": {},
   "outputs": [],
   "source": [
    "# enter your code"
   ]
  },
  {
   "cell_type": "markdown",
   "metadata": {},
   "source": [
    "**b.** Compute two channel maps by integrating over the frequency channels 50-100 and 100-150. Compare the two maps. **5 Points**"
   ]
  },
  {
   "cell_type": "code",
   "execution_count": null,
   "metadata": {},
   "outputs": [],
   "source": [
    "# enter your code"
   ]
  },
  {
   "cell_type": "markdown",
   "metadata": {},
   "source": [
    "**c.** Compute the average spectrum, by averaging all 25 positions. **5 Points**"
   ]
  },
  {
   "cell_type": "code",
   "execution_count": null,
   "metadata": {},
   "outputs": [],
   "source": [
    "# enter your code"
   ]
  },
  {
   "cell_type": "markdown",
   "metadata": {},
   "source": [
    "**d.** Plot every spectrum and overlay the average spectrum. Describe how the emission changes across the map. In particular how the line center position, the peak height and the line widths behave. **15 Points**"
   ]
  },
  {
   "cell_type": "code",
   "execution_count": null,
   "metadata": {},
   "outputs": [],
   "source": [
    "# enter your code"
   ]
  }
 ],
 "metadata": {
  "date": "",
  "kernelspec": {
   "display_name": "Python 3 (ipykernel)",
   "language": "python",
   "name": "python3"
  },
  "language_info": {
   "codemirror_mode": {
    "name": "ipython",
    "version": 3
   },
   "file_extension": ".py",
   "mimetype": "text/x-python",
   "name": "python",
   "nbconvert_exporter": "python",
   "pygments_lexer": "ipython3",
   "version": "3.11.5"
  },
  "title": ""
 },
 "nbformat": 4,
 "nbformat_minor": 4
}
