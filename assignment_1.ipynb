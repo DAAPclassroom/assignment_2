{
 "cells": [
  {
   "cell_type": "markdown",
   "metadata": {},
   "source": [
    "# Data Analysis for Physics and Astronomy\n",
    "## Sommersemster 2024 \n",
    "# Assignment 1\n",
    "\n",
    "Due: **10:00 30. April 2024**\n",
    "\n",
    "Discussion: **12:00 30. April 2024**\n",
    "\n",
    "**Online submission** at via github classroom  "
   ]
  },
  {
   "cell_type": "markdown",
   "metadata": {},
   "source": [
    "# 1. Sampling [70 points]\n",
    "\n",
    "The Behavioral Risk Factor Surveillance System (BRFSS) is an annual telephone survey of 350,000 people in the United States. As its\n",
    "name implies, the BRFSS is designed to identify risk factors in the adult population and report emerging health trends. For example,\n",
    "respondents are asked about their diet and weekly physical activity, their HIV/AIDS status, possible tobacco use, and even their level of\n",
    "healthcare coverage. The BRFSS Web site (http://www.cdc.gov/brfss) contains a complete description of the survey, including the research\n",
    "questions that motivate the study and many interesting results derived from the data."
   ]
  },
  {
   "cell_type": "code",
   "execution_count": 1,
   "metadata": {},
   "outputs": [],
   "source": [
    "%matplotlib inline"
   ]
  },
  {
   "cell_type": "markdown",
   "metadata": {},
   "source": [
    "## Visually inspect the ASCII data file from the Data/ directory\n",
    "The data file is zipped: `cdbrfss1999.zip`. Unzip it and look at it. It is in ASCII format.\n",
    "\n",
    "The file `Codebook99.rtf` contains a detailed explanation of the individual data entries. Use the\n",
    "Cookbook to understand the data columns that you are working on in this problem."
   ]
  },
  {
   "cell_type": "markdown",
   "metadata": {},
   "source": [
    "## Large data\n",
    "\n",
    "The dataset contains 159989 entries."
   ]
  },
  {
   "cell_type": "markdown",
   "metadata": {},
   "source": [
    "**a.** Take a sample of 30000 from this dataset and export it to an ASCII file. Make sure that your method allows to draw more than one sample from the population. **[10 points]**"
   ]
  },
  {
   "cell_type": "code",
   "execution_count": null,
   "metadata": {},
   "outputs": [],
   "source": [
    "cdbrfss = # TODO: import the file cdbrfss1999.csv with the Pandas command pd.read_csv . This creates the DataFrame cdbrfss. You can read directly from the zip file with the compression='zip' option."
   ]
  },
  {
   "cell_type": "markdown",
   "metadata": {},
   "source": [
    "Look up the `DataFrame.sample()` method here: [DOCUMENTATION](https://pandas.pydata.org/docs/reference/api/pandas.DataFrame.sample.html#pandas.DataFrame.sample)"
   ]
  },
  {
   "cell_type": "code",
   "execution_count": null,
   "metadata": {},
   "outputs": [],
   "source": [
    "# TODO: Pandas DataFrames have the method .sample associated to randomly sample from the list. "
   ]
  },
  {
   "cell_type": "markdown",
   "metadata": {},
   "source": [
    "**b.** Discuss your method to do so. Is your sampling a \"good sample\" in the sense that it is representative for the larger \"population\"? **[5 points]**"
   ]
  },
  {
   "cell_type": "markdown",
   "metadata": {},
   "source": [
    "## Large columns\n",
    "\n",
    "Each case in the dataset can have up to 241 variables. Each one of these variables corresponds to a question that was asked in the survey. For example, for **genhlth**, respondents were asked to evaluate their general health, responding either excellent, very good, good, fair or poor. The **exerany** variable indicates whether the respondent exercised in the past month (1) or did not (0). Likewise, **hlthplan** indicates whether the respondent had some form of health coverage (1) or did not (0). The **smoke100** variable indicates whether the respondent had smoked at least 100 cigarettes in her lifetime. The other variables record the respondent’s height in inches (**hti**) and feet (**htf**), **weight** in pounds as well as their desired weight, **wtdesire**, **age** in years, and **sex**."
   ]
  },
  {
   "cell_type": "markdown",
   "metadata": {},
   "source": [
    "**a.** Locate the columns corresponding to the variables **genhlth**, **exerany**, **htf**, **hti**, **smoke100**, **weight**, **wtdesire**, **age**, and **sex**."
   ]
  },
  {
   "cell_type": "markdown",
   "metadata": {},
   "source": [
    "Any reasonable method of isolating the columns and saving the subsample is accepted. For `pandas`, the list of column names is an attribute of the `DataFrame` object, and where columns without a column name are given the title 'Unnamed: [index]'."
   ]
  },
  {
   "cell_type": "code",
   "execution_count": 12,
   "metadata": {},
   "outputs": [
    {
     "data": {
      "text/html": [
       "<div>\n",
       "<style scoped>\n",
       "    .dataframe tbody tr th:only-of-type {\n",
       "        vertical-align: middle;\n",
       "    }\n",
       "\n",
       "    .dataframe tbody tr th {\n",
       "        vertical-align: top;\n",
       "    }\n",
       "\n",
       "    .dataframe thead th {\n",
       "        text-align: right;\n",
       "    }\n",
       "</style>\n",
       "<table border=\"1\" class=\"dataframe\">\n",
       "  <thead>\n",
       "    <tr style=\"text-align: right;\">\n",
       "      <th></th>\n",
       "      <th>STATE</th>\n",
       "      <th>GEOSTR</th>\n",
       "      <th>DENSTR</th>\n",
       "      <th>PSU</th>\n",
       "      <th>RECORD</th>\n",
       "      <th>IMONTH</th>\n",
       "      <th>IDAY</th>\n",
       "      <th>IYEAR</th>\n",
       "      <th>INTVID</th>\n",
       "      <th>Unnamed: 9</th>\n",
       "      <th>...</th>\n",
       "      <th>Unnamed: 272</th>\n",
       "      <th>Unnamed: 273</th>\n",
       "      <th>Unnamed: 274</th>\n",
       "      <th>Unnamed: 275</th>\n",
       "      <th>Unnamed: 276</th>\n",
       "      <th>Unnamed: 277</th>\n",
       "      <th>Unnamed: 278</th>\n",
       "      <th>Unnamed: 279</th>\n",
       "      <th>Unnamed: 280</th>\n",
       "      <th>Unnamed: 281</th>\n",
       "    </tr>\n",
       "  </thead>\n",
       "  <tbody>\n",
       "    <tr>\n",
       "      <th>0</th>\n",
       "      <td>1</td>\n",
       "      <td>1</td>\n",
       "      <td>1</td>\n",
       "      <td>10012</td>\n",
       "      <td>1</td>\n",
       "      <td>1</td>\n",
       "      <td>19</td>\n",
       "      <td>1999</td>\n",
       "      <td>40</td>\n",
       "      <td>NaN</td>\n",
       "      <td>...</td>\n",
       "      <td>1</td>\n",
       "      <td>9</td>\n",
       "      <td>1.0</td>\n",
       "      <td>1</td>\n",
       "      <td>3.0</td>\n",
       "      <td>11</td>\n",
       "      <td>2</td>\n",
       "      <td>1</td>\n",
       "      <td>1</td>\n",
       "      <td>1</td>\n",
       "    </tr>\n",
       "    <tr>\n",
       "      <th>1</th>\n",
       "      <td>1</td>\n",
       "      <td>1</td>\n",
       "      <td>1</td>\n",
       "      <td>10013</td>\n",
       "      <td>1</td>\n",
       "      <td>1</td>\n",
       "      <td>12</td>\n",
       "      <td>1999</td>\n",
       "      <td>33</td>\n",
       "      <td>NaN</td>\n",
       "      <td>...</td>\n",
       "      <td>1</td>\n",
       "      <td>9</td>\n",
       "      <td>2.0</td>\n",
       "      <td>1</td>\n",
       "      <td>3.0</td>\n",
       "      <td>8</td>\n",
       "      <td>1</td>\n",
       "      <td>1</td>\n",
       "      <td>1</td>\n",
       "      <td>1</td>\n",
       "    </tr>\n",
       "    <tr>\n",
       "      <th>2</th>\n",
       "      <td>1</td>\n",
       "      <td>1</td>\n",
       "      <td>1</td>\n",
       "      <td>10034</td>\n",
       "      <td>1</td>\n",
       "      <td>1</td>\n",
       "      <td>16</td>\n",
       "      <td>1999</td>\n",
       "      <td>45</td>\n",
       "      <td>NaN</td>\n",
       "      <td>...</td>\n",
       "      <td>1</td>\n",
       "      <td>9</td>\n",
       "      <td>1.0</td>\n",
       "      <td>1</td>\n",
       "      <td>1.0</td>\n",
       "      <td>3</td>\n",
       "      <td>1</td>\n",
       "      <td>1</td>\n",
       "      <td>1</td>\n",
       "      <td>1</td>\n",
       "    </tr>\n",
       "    <tr>\n",
       "      <th>3</th>\n",
       "      <td>1</td>\n",
       "      <td>1</td>\n",
       "      <td>1</td>\n",
       "      <td>10035</td>\n",
       "      <td>1</td>\n",
       "      <td>1</td>\n",
       "      <td>15</td>\n",
       "      <td>1999</td>\n",
       "      <td>45</td>\n",
       "      <td>NaN</td>\n",
       "      <td>...</td>\n",
       "      <td>1</td>\n",
       "      <td>9</td>\n",
       "      <td>1.0</td>\n",
       "      <td>1</td>\n",
       "      <td>1.0</td>\n",
       "      <td>2</td>\n",
       "      <td>1</td>\n",
       "      <td>1</td>\n",
       "      <td>1</td>\n",
       "      <td>1</td>\n",
       "    </tr>\n",
       "    <tr>\n",
       "      <th>4</th>\n",
       "      <td>1</td>\n",
       "      <td>1</td>\n",
       "      <td>1</td>\n",
       "      <td>10039</td>\n",
       "      <td>1</td>\n",
       "      <td>1</td>\n",
       "      <td>16</td>\n",
       "      <td>1999</td>\n",
       "      <td>0</td>\n",
       "      <td>NaN</td>\n",
       "      <td>...</td>\n",
       "      <td>1</td>\n",
       "      <td>9</td>\n",
       "      <td>1.0</td>\n",
       "      <td>1</td>\n",
       "      <td>2.0</td>\n",
       "      <td>6</td>\n",
       "      <td>1</td>\n",
       "      <td>1</td>\n",
       "      <td>1</td>\n",
       "      <td>1</td>\n",
       "    </tr>\n",
       "    <tr>\n",
       "      <th>...</th>\n",
       "      <td>...</td>\n",
       "      <td>...</td>\n",
       "      <td>...</td>\n",
       "      <td>...</td>\n",
       "      <td>...</td>\n",
       "      <td>...</td>\n",
       "      <td>...</td>\n",
       "      <td>...</td>\n",
       "      <td>...</td>\n",
       "      <td>...</td>\n",
       "      <td>...</td>\n",
       "      <td>...</td>\n",
       "      <td>...</td>\n",
       "      <td>...</td>\n",
       "      <td>...</td>\n",
       "      <td>...</td>\n",
       "      <td>...</td>\n",
       "      <td>...</td>\n",
       "      <td>...</td>\n",
       "      <td>...</td>\n",
       "      <td>...</td>\n",
       "    </tr>\n",
       "    <tr>\n",
       "      <th>159984</th>\n",
       "      <td>72</td>\n",
       "      <td>1</td>\n",
       "      <td>1</td>\n",
       "      <td>121090</td>\n",
       "      <td>1</td>\n",
       "      <td>12</td>\n",
       "      <td>2</td>\n",
       "      <td>1999</td>\n",
       "      <td>6</td>\n",
       "      <td>NaN</td>\n",
       "      <td>...</td>\n",
       "      <td>1</td>\n",
       "      <td>9</td>\n",
       "      <td>1.0</td>\n",
       "      <td>1</td>\n",
       "      <td>2.0</td>\n",
       "      <td>4</td>\n",
       "      <td>1</td>\n",
       "      <td>2</td>\n",
       "      <td>3</td>\n",
       "      <td>1</td>\n",
       "    </tr>\n",
       "    <tr>\n",
       "      <th>159985</th>\n",
       "      <td>72</td>\n",
       "      <td>1</td>\n",
       "      <td>1</td>\n",
       "      <td>121094</td>\n",
       "      <td>1</td>\n",
       "      <td>12</td>\n",
       "      <td>3</td>\n",
       "      <td>1999</td>\n",
       "      <td>6</td>\n",
       "      <td>NaN</td>\n",
       "      <td>...</td>\n",
       "      <td>1</td>\n",
       "      <td>9</td>\n",
       "      <td>1.0</td>\n",
       "      <td>1</td>\n",
       "      <td>3.0</td>\n",
       "      <td>9</td>\n",
       "      <td>1</td>\n",
       "      <td>2</td>\n",
       "      <td>3</td>\n",
       "      <td>1</td>\n",
       "    </tr>\n",
       "    <tr>\n",
       "      <th>159986</th>\n",
       "      <td>72</td>\n",
       "      <td>1</td>\n",
       "      <td>1</td>\n",
       "      <td>121095</td>\n",
       "      <td>1</td>\n",
       "      <td>12</td>\n",
       "      <td>1</td>\n",
       "      <td>1999</td>\n",
       "      <td>6</td>\n",
       "      <td>NaN</td>\n",
       "      <td>...</td>\n",
       "      <td>1</td>\n",
       "      <td>9</td>\n",
       "      <td>1.0</td>\n",
       "      <td>1</td>\n",
       "      <td>3.0</td>\n",
       "      <td>10</td>\n",
       "      <td>2</td>\n",
       "      <td>2</td>\n",
       "      <td>3</td>\n",
       "      <td>1</td>\n",
       "    </tr>\n",
       "    <tr>\n",
       "      <th>159987</th>\n",
       "      <td>72</td>\n",
       "      <td>1</td>\n",
       "      <td>1</td>\n",
       "      <td>121097</td>\n",
       "      <td>1</td>\n",
       "      <td>12</td>\n",
       "      <td>6</td>\n",
       "      <td>1999</td>\n",
       "      <td>6</td>\n",
       "      <td>NaN</td>\n",
       "      <td>...</td>\n",
       "      <td>2</td>\n",
       "      <td>9</td>\n",
       "      <td>3.0</td>\n",
       "      <td>1</td>\n",
       "      <td>1.0</td>\n",
       "      <td>3</td>\n",
       "      <td>1</td>\n",
       "      <td>2</td>\n",
       "      <td>3</td>\n",
       "      <td>1</td>\n",
       "    </tr>\n",
       "    <tr>\n",
       "      <th>159988</th>\n",
       "      <td>72</td>\n",
       "      <td>1</td>\n",
       "      <td>1</td>\n",
       "      <td>121101</td>\n",
       "      <td>1</td>\n",
       "      <td>12</td>\n",
       "      <td>14</td>\n",
       "      <td>1999</td>\n",
       "      <td>4</td>\n",
       "      <td>NaN</td>\n",
       "      <td>...</td>\n",
       "      <td>1</td>\n",
       "      <td>9</td>\n",
       "      <td>1.0</td>\n",
       "      <td>1</td>\n",
       "      <td>2.0</td>\n",
       "      <td>7</td>\n",
       "      <td>1</td>\n",
       "      <td>2</td>\n",
       "      <td>3</td>\n",
       "      <td>1</td>\n",
       "    </tr>\n",
       "  </tbody>\n",
       "</table>\n",
       "<p>159989 rows × 282 columns</p>\n",
       "</div>"
      ],
      "text/plain": [
       "        STATE  GEOSTR  DENSTR     PSU  RECORD  IMONTH   IDAY   IYEAR  INTVID   \\\n",
       "0           1       1       1   10012       1        1     19    1999      40   \n",
       "1           1       1       1   10013       1        1     12    1999      33   \n",
       "2           1       1       1   10034       1        1     16    1999      45   \n",
       "3           1       1       1   10035       1        1     15    1999      45   \n",
       "4           1       1       1   10039       1        1     16    1999       0   \n",
       "...       ...     ...     ...     ...     ...      ...    ...     ...     ...   \n",
       "159984     72       1       1  121090       1       12      2    1999       6   \n",
       "159985     72       1       1  121094       1       12      3    1999       6   \n",
       "159986     72       1       1  121095       1       12      1    1999       6   \n",
       "159987     72       1       1  121097       1       12      6    1999       6   \n",
       "159988     72       1       1  121101       1       12     14    1999       4   \n",
       "\n",
       "        Unnamed: 9  ...  Unnamed: 272  Unnamed: 273  Unnamed: 274  \\\n",
       "0              NaN  ...             1             9           1.0   \n",
       "1              NaN  ...             1             9           2.0   \n",
       "2              NaN  ...             1             9           1.0   \n",
       "3              NaN  ...             1             9           1.0   \n",
       "4              NaN  ...             1             9           1.0   \n",
       "...            ...  ...           ...           ...           ...   \n",
       "159984         NaN  ...             1             9           1.0   \n",
       "159985         NaN  ...             1             9           1.0   \n",
       "159986         NaN  ...             1             9           1.0   \n",
       "159987         NaN  ...             2             9           3.0   \n",
       "159988         NaN  ...             1             9           1.0   \n",
       "\n",
       "        Unnamed: 275  Unnamed: 276  Unnamed: 277  Unnamed: 278  Unnamed: 279  \\\n",
       "0                  1           3.0            11             2             1   \n",
       "1                  1           3.0             8             1             1   \n",
       "2                  1           1.0             3             1             1   \n",
       "3                  1           1.0             2             1             1   \n",
       "4                  1           2.0             6             1             1   \n",
       "...              ...           ...           ...           ...           ...   \n",
       "159984             1           2.0             4             1             2   \n",
       "159985             1           3.0             9             1             2   \n",
       "159986             1           3.0            10             2             2   \n",
       "159987             1           1.0             3             1             2   \n",
       "159988             1           2.0             7             1             2   \n",
       "\n",
       "        Unnamed: 280  Unnamed: 281  \n",
       "0                  1             1  \n",
       "1                  1             1  \n",
       "2                  1             1  \n",
       "3                  1             1  \n",
       "4                  1             1  \n",
       "...              ...           ...  \n",
       "159984             3             1  \n",
       "159985             3             1  \n",
       "159986             3             1  \n",
       "159987             3             1  \n",
       "159988             3             1  \n",
       "\n",
       "[159989 rows x 282 columns]"
      ]
     },
     "execution_count": 12,
     "metadata": {},
     "output_type": "execute_result"
    }
   ],
   "source": [
    "cdbrfss"
   ]
  },
  {
   "cell_type": "code",
   "execution_count": 6,
   "metadata": {},
   "outputs": [
    {
     "data": {
      "text/plain": [
       "Index(['STATE', 'GEOSTR', 'DENSTR', 'PSU', 'RECORD', 'IMONTH ', 'IDAY ',\n",
       "       'IYEAR ', 'INTVID ', 'Unnamed: 9',\n",
       "       ...\n",
       "       'Unnamed: 272', 'Unnamed: 273', 'Unnamed: 274', 'Unnamed: 275',\n",
       "       'Unnamed: 276', 'Unnamed: 277', 'Unnamed: 278', 'Unnamed: 279',\n",
       "       'Unnamed: 280', 'Unnamed: 281'],\n",
       "      dtype='object', length=282)"
      ]
     },
     "execution_count": 6,
     "metadata": {},
     "output_type": "execute_result"
    }
   ],
   "source": [
    "cdbrfss.columns"
   ]
  },
  {
   "cell_type": "code",
   "execution_count": 7,
   "metadata": {},
   "outputs": [
    {
     "data": {
      "text/plain": [
       "array(['STATE', 'GEOSTR', 'DENSTR', 'PSU', 'RECORD', 'IMONTH ', 'IDAY ',\n",
       "       'IYEAR ', 'INTVID ', 'Unnamed: 9', 'DISPCODE', 'WINDDOWN', 'SEQNO',\n",
       "       'NATTMPTS', 'NRECSEL', 'NRECSTR', 'BPSELWT', 'WAKSS1S2',\n",
       "       'NUMADULT', 'NUMMEN', 'NUMWOMEN', 'GENHLTH', 'PHYSHLTH',\n",
       "       'MENTHLTH', 'POORHLTH', 'HLTHPLAN', 'MEDICAR2', 'TYPCOVR1',\n",
       "       'TYPCOVR2', 'NOCOV12', 'PASTPLAN', 'MEDCOST', 'CHECKUP', 'BPTAKE',\n",
       "       'BPHIGH', 'HIGHGT1', 'BLOODCHO', 'CHOLCHK', 'TOLDHI', 'DIABETES',\n",
       "       'LASTDEN2', 'RMVTEETH', 'DENCLEAN', 'SUNBURN', 'NUMBURN',\n",
       "       'SMOKE100', 'SMOKEDAY', 'SMOKENUM', 'SMOKNM30', 'STOPSMOK',\n",
       "       'LASTSMOK', 'DRINKANY', 'ALCOHOL', 'NALCOCC', 'DRINKGE5',\n",
       "       'DRINKDRI', 'AGE', 'ORACE', 'HISPANIC', 'MARITAL', 'CHLD04',\n",
       "       'CHLD0512', 'CHLD1317', 'EDUCA', 'EMPLOY', 'INCOME2', 'WEIGHT',\n",
       "       'HTF', 'HTI', 'CTYCODE', 'NUMHHOLD', 'NUMPHONS', 'SEX', 'HADMAM',\n",
       "       'HOWLONG', 'WHYDONE', 'PROFEXAM', 'LENGEXAM', 'REASEXAM', 'HADPAP',\n",
       "       'LASTPAP', 'WHYPAP', 'HADHYST', 'PREGNANT', 'FLUSHOT', 'FLUPROV',\n",
       "       'PNEUMVAC', 'BLDSTOOL', 'LSTBLDST', 'HADSIGM', 'LASTSIGM',\n",
       "       'CHLDLT16', 'BIKEHLMT', 'SMKDETE2', 'GRADE2', 'CONDUSE', 'GETHIV',\n",
       "       'DONBLD85', 'DON12MO', 'HIVTST2A', 'HIVTST2B', 'HIV12MO',\n",
       "       'TEST12MO', 'RSNTST2', 'WHRTST3', 'RESULTS', 'COUNSEL', 'DIABAGE',\n",
       "       'INSULIN', 'INSLNFRQ', 'BLDSUGAR', 'HEMOGLBN', 'DOCTDIAB',\n",
       "       'CHKHEMO', 'FEETCHK', 'EYEEXAM', 'VISNDIST', 'VISNREAD',\n",
       "       'VISIONTV', 'SEXINTMN', 'SEXCONDM', 'CONDLAST', 'CONEFF2',\n",
       "       'NEWPARTN', 'HIVRISK', 'STDTREAT', 'STDCLIN', 'SEXBEHA2',\n",
       "       'SELCPTN3', 'SEX1PTN3', 'USECOND3', 'PREGLST5', 'LSTPREG',\n",
       "       'LSTPREG2', 'BRTHCNTL', 'TYPCNTRL', 'RSNNOBC', 'WHRSVCS',\n",
       "       'FAMPLAN', 'LASTUSED', 'RSNNOCOV', 'MCRELNGT', 'DOCTLIST',\n",
       "       'CERTDOCT', 'HLTHCOVR', 'RSNWOCOV', 'RATECARE', 'PRIMCARE',\n",
       "       'NOPRIMCR', 'MOSTCARE', 'FACILIT2', 'DISTCARE', 'NUMBDOC2',\n",
       "       'CHNGDOCT', 'LASTCHNG', 'ASTHMA', 'ASTHNOW', 'PCSEATHB', 'PCSEXER',\n",
       "       'PCSINJPV', 'PCSDRGAB', 'PCSALCH', 'PCSSMOK', 'PCSAIDS',\n",
       "       'CVDFATRK', 'CVDEXRSK', 'CVDFAT02', 'CVDEXR02', 'CVDINFAR',\n",
       "       'CVDCORHD', 'CVDSTROK', 'CVDASPRN', 'ASPUNSAF', 'WHYASPAN',\n",
       "       'WHYASPHA', 'WHYASPSK', 'PASTMENO', 'DICSESTR', 'ESTRPILL',\n",
       "       'CURESTRO', 'ESTRHART', 'ESTRBONE', 'ESTRFLSH', 'PAIN12MN',\n",
       "       'SYMTMMTH', 'LMTJOINT', 'HAVARTH', 'TYPEARTH', 'TRTARTH',\n",
       "       'FRUITJUI', 'FRUIT', 'GREENSAL', 'POTATOES', 'CARROTS', 'VEGETABL',\n",
       "       'EXERANY', 'EXERACT1', 'EXERDIS1', 'EXEROFT1', 'EXERHMM1',\n",
       "       'EXEROTH2', 'EXERACT2', 'EXERDIS2', 'EXEROFT2', 'EXERHMM2',\n",
       "       'LOSEWT', 'MAINTAIN', 'FEWCAL', 'PHYACT', 'WTDESIRE', 'DRADVICE',\n",
       "       'VITAMINS', 'MULTIVIT', 'FOLICACD', 'TAKEVIT', 'RECOMMEN',\n",
       "       'SUNBLOCK', 'SPFNUM', 'AVOIDSUN', 'SUNHAT', 'SUNWEAR', 'SUNSENS',\n",
       "       'BURNTYPE', 'HOWSAFE', 'RENTHOME', 'CURADRS', 'NMCLSFRD',\n",
       "       'ENGHFOOD', 'TOBACCO', 'INDOORS', 'SMKPUBLC', 'SMKWORK', 'SMKREST',\n",
       "       'SMKSCHLS', 'SMKDAYCR', 'SMKINDOR', 'USEEVER', 'USENOW',\n",
       "       'STATEQUE ', 'Unnamed: 239', 'QSTVER', 'STSTR', 'Unnamed: 242',\n",
       "       'Unnamed: 243', 'Unnamed: 244', 'Unnamed: 245', 'Unnamed: 246',\n",
       "       'Unnamed: 247', 'Unnamed: 248', 'Unnamed: 249', 'Unnamed: 250',\n",
       "       'Unnamed: 251', 'Unnamed: 252', 'Unnamed: 253', 'Unnamed: 254',\n",
       "       'Unnamed: 255', 'Unnamed: 256', 'Unnamed: 257', 'Unnamed: 258',\n",
       "       'Unnamed: 259', 'Unnamed: 260', 'Unnamed: 261', 'Unnamed: 262',\n",
       "       'Unnamed: 263', 'Unnamed: 264', 'Unnamed: 265', 'Unnamed: 266',\n",
       "       'Unnamed: 267', 'Unnamed: 268', 'Unnamed: 269', 'Unnamed: 270',\n",
       "       'Unnamed: 271', 'Unnamed: 272', 'Unnamed: 273', 'Unnamed: 274',\n",
       "       'Unnamed: 275', 'Unnamed: 276', 'Unnamed: 277', 'Unnamed: 278',\n",
       "       'Unnamed: 279', 'Unnamed: 280', 'Unnamed: 281'], dtype=object)"
      ]
     },
     "execution_count": 7,
     "metadata": {},
     "output_type": "execute_result"
    }
   ],
   "source": [
    "cdbrfss.columns.values"
   ]
  },
  {
   "cell_type": "code",
   "execution_count": 24,
   "metadata": {},
   "outputs": [],
   "source": [
    "# TODO: understand what the following commands do\n",
    "columns = {\"GENHLTH\":22, \"EXERANY\":196, \"HLTHPLAN\":26, \"SMOKE100\":46, \"HTF\":68, \"HTI\":69, \"WEIGHT\":67, \"WTDESIRE\":210, \"AGE\":57, \"SEX\":73}\n",
    "desired_column_names = [key for key, value in columns.items()]"
   ]
  },
  {
   "cell_type": "markdown",
   "metadata": {
    "slideshow": {
     "slide_type": "-"
    },
    "tags": [
     "problem_sheet"
    ]
   },
   "source": [
    "**b.** Reduce your sample to include only these variables and export it to an ASCII file. **[2 points]**"
   ]
  },
  {
   "cell_type": "markdown",
   "metadata": {},
   "source": [
    "- Use the method `DataFrame.loc` [DOCUMENTATION](https://pandas.pydata.org/docs/reference/api/pandas.DataFrame.loc.html) to select the columns you want.\n",
    "\n",
    "- Use the method `DataFrame.to_csv` [DOCUMENTATION](https://pandas.pydata.org/docs/reference/api/pandas.DataFrame.to_csv.html) to export the subset to a CSV file."
   ]
  },
  {
   "cell_type": "markdown",
   "metadata": {},
   "source": [
    "**c.** How many cases and how many variables are there in your sample? **[2 points]**\n",
    "\n",
    "- (a) 9 cases; 30,000 variables\n",
    "\n",
    "- (b) 8 cases; 30,000 variables\n",
    "\n",
    "- (c) 30,000 cases; 9 variables\n",
    "\n",
    "- (d) 159,989 cases; 10 variables"
   ]
  },
  {
   "cell_type": "markdown",
   "metadata": {},
   "source": [
    "**d.** What type of variable is **genhlth**? **[2 points]**\n",
    "\n",
    "- (a) numerical, continuous\n",
    "\n",
    "- (b) numerical, discrete\n",
    "\n",
    "- (c) categorical (not ordinal)\n",
    "\n",
    "- (d) categorical, ordinal"
   ]
  },
  {
   "cell_type": "markdown",
   "metadata": {},
   "source": [
    "**e.** What type of variable is **weight**? **[2 points]**\n",
    "\n",
    "- (a) numerical, continuous\n",
    "\n",
    " - (b) numerical, discrete\n",
    "\n",
    " - (c) categorical (not ordinal)\n",
    "\n",
    " - (d) categorical, ordinal"
   ]
  },
  {
   "cell_type": "markdown",
   "metadata": {},
   "source": [
    "**f.** What type of variable is **smoke100**? **[2 points]**\n",
    "\n",
    " - (a) numerical, continuous\n",
    " \n",
    " - (b) numerical, discrete\n",
    " \n",
    " - (c) categorical (not ordinal)\n",
    " \n",
    " - (d) categorical, ordinal"
   ]
  },
  {
   "cell_type": "markdown",
   "metadata": {},
   "source": [
    "## One Bar chart\n",
    "\n",
    "Take all **genhlth** entries from your sample and draw a bar chart to visualize how the cases are distributed across the possible categories. Convert the numerical encoding to their represetations, e.g. 1 -> \"Excellent\". Check the data cookbook for details. **[10 points]**\n",
    "\n",
    "- You can use `DataFrame.value_counts` to return the distribution counts. [DOCUMENTATION](https://pandas.pydata.org/docs/reference/api/pandas.DataFrame.value_counts.html)\n",
    "\n",
    "- You can use `DataFrame.plot` to easily plot a Pandas Series or DataFrame. [DOCUMENTATION](https://pandas.pydata.org/docs/reference/api/pandas.DataFrame.plot.html)\n",
    "\n",
    "Label your axes!\n"
   ]
  },
  {
   "cell_type": "markdown",
   "metadata": {},
   "source": [
    "## Two Bar Charts\n",
    "\n",
    "Combine the **smoke100** with the **genhlth** entries from your sample and draw __TWO__ bar charts, one showing the health of the smokers and a second one showing the health of the non-smokers. **[15 points]**"
   ]
  },
  {
   "cell_type": "markdown",
   "metadata": {},
   "source": [
    "## BMI\n",
    "\n",
    "Next let’s consider a new variable **bmi** that doesn’t show up directly in this data set: Body Mass Index (BMI).  **[20 points]**\n",
    "\n",
    "BMI is a weight to height ratio and can be calculated as.\n",
    "\n",
    "$$  \\mathrm{BMI} = \\frac{\\mathrm{weight(lb)}}{\\mathrm{height(in)}^2} * 703$$\n",
    "\n",
    "703 is the approximate conversion factor to change units to metric (meters and kilograms)\n",
    "from imperial (inches and pounds). Compute the bmi for each case in your sample and add it to\n",
    "the sample (e.g. as additional column). Visualize the distribution of the BMI in your sample.\n",
    "\n",
    "**ATTENTION**: Remember, that the height was given in feet and inches separately. make sure\n",
    "to compute the total height in inches! \n",
    "\n",
    "Look up the Cookbook definition. Note that the values in the height columns may have special values indicating invalid entries. E.g. 777 corresponds to an unknown or uincertain height in inches and 999 corresponds to a refused answer. Similar  issues arise with the height in feet numbers. Make sure to clean your data from these invalid entries. \n",
    "\n",
    "**HINT** You can use the `DataFrame.isin` method ( [DOCUMENTATION](https://pandas.pydata.org/docs/reference/api/pandas.DataFrame.isin.html)) together with the logical NOT operator `~` to only select contents from a list that are not in a list of values. Don't forget to convert feet to inches. The units package helps: "
   ]
  },
  {
   "cell_type": "code",
   "execution_count": 43,
   "metadata": {},
   "outputs": [
    {
     "data": {
      "text/plain": [
       "12.0"
      ]
     },
     "execution_count": 43,
     "metadata": {},
     "output_type": "execute_result"
    }
   ],
   "source": [
    "(1 * u.imperial.foot).to(u.imperial.inch).value"
   ]
  },
  {
   "cell_type": "markdown",
   "metadata": {},
   "source": [
    "# 2. Multi-Dimensional Visualization [30 Points]\n",
    "\n",
    "There are many different possibilities to visualize data. In this exercise you should select a particular\n",
    "suitable way to visualize the provided data sets. Think about what information you want to relay and\n",
    "what method works best - be creative (especially for the high-dimensional data.\n",
    "\n",
    "The directory Data/ contains all data files for this problem in CSV-format.\n",
    "\n",
    "Here is a brief example on how to plot data from a Pandas dataframe."
   ]
  },
  {
   "cell_type": "code",
   "execution_count": 44,
   "metadata": {},
   "outputs": [],
   "source": [
    "import numpy as np\n",
    "import pandas as pd\n",
    "from matplotlib import pyplot as plt "
   ]
  },
  {
   "cell_type": "markdown",
   "metadata": {},
   "source": [
    "Remember that Pandas allows to plot data very easily ([DOCUMENTATION](https://pandas.pydata.org/docs/reference/api/pandas.DataFrame.plot.html)):"
   ]
  },
  {
   "cell_type": "code",
   "execution_count": 45,
   "metadata": {},
   "outputs": [
    {
     "data": {
      "image/png": "[encoded data removed]",
      "text/plain": [
       "<Figure size 432x288 with 1 Axes>"
      ]
     },
     "metadata": {
      "needs_background": "light"
     },
     "output_type": "display_data"
    },
    {
     "data": {
      "image/png": "[encoded data removed]",
      "text/plain": [
       "<Figure size 432x288 with 1 Axes>"
      ]
     },
     "metadata": {
      "needs_background": "light"
     },
     "output_type": "display_data"
    }
   ],
   "source": [
    "df = pd.DataFrame({'lab':['A', 'B', 'C'], 'val':[10, 30, 20]})\n",
    "\n",
    "ax = df.plot(kind='bar', x='lab', y='val', rot=0)\n",
    "\n",
    "ax = df.plot(title=\"DataFrame Plot\")"
   ]
  },
  {
   "cell_type": "markdown",
   "metadata": {},
   "source": [
    "## 1-D data\n",
    "\n",
    "Load the data in `Data/DATA-Exercise1-1D.csv`.\n",
    "\n",
    "Show the results of 1000 coin tosses (head \"H\" or tail \"T\").  **[5 points]**"
   ]
  },
  {
   "cell_type": "markdown",
   "metadata": {
    "jp-MarkdownHeadingCollapsed": true
   },
   "source": [
    "## 2-D data\n",
    "\n",
    "Load the data in `Data/DATA-Exercise1-2D.csv`.\n",
    "\n",
    "Plot the world population since 10 000 B.C.  **[5 points]**"
   ]
  },
  {
   "cell_type": "markdown",
   "metadata": {},
   "source": [
    "## 3-D data\n",
    "\n",
    "Load the data in `Data/DATA-Exercise1-3D.csv`.\n",
    "\n",
    "Display the intensity map (using the columns x, y, and intensity).  **[5 points]**"
   ]
  },
  {
   "cell_type": "markdown",
   "metadata": {},
   "source": [
    "## 4-D data\n",
    "\n",
    "Load the data in `Data/DATA-Exercise1-3D.csv`.\n",
    "\n",
    "How will you show the volume properties (using columns x, y, z, and value)  **[5 points]**"
   ]
  },
  {
   "cell_type": "markdown",
   "metadata": {},
   "source": [
    "## 5-D data\n",
    "\n",
    "Load the data in `Data/DATA-Exercise1-4D.csv`.\n",
    "\n",
    "Represent this table with columns \"Country\", \"PovertyFraction\", \"GDPPerCapita $\", \"MilitaryExpenditureFraction\", \"Population\". **[5 points]**"
   ]
  },
  {
   "cell_type": "markdown",
   "metadata": {},
   "source": [
    "## 6-D data\n",
    "\n",
    "Load the data in `Data/DATA-Exercise1-6D.csv`.\n",
    "\n",
    "Find a way to visually represent the data (with columns x, y, z, size, val, direction angle).  **[5 points]**"
   ]
  }
 ],
 "metadata": {
  "date": "",
  "kernelspec": {
   "display_name": "Python 3 (ipykernel)",
   "language": "python",
   "name": "python3"
  },
  "language_info": {
   "codemirror_mode": {
    "name": "ipython",
    "version": 3
   },
   "file_extension": ".py",
   "mimetype": "text/x-python",
   "name": "python",
   "nbconvert_exporter": "python",
   "pygments_lexer": "ipython3",
   "version": "3.11.5"
  },
  "title": ""
 },
 "nbformat": 4,
 "nbformat_minor": 4
}
